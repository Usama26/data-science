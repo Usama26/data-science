{
 "cells": [
  {
   "cell_type": "markdown",
   "metadata": {},
   "source": [
    "## MAP"
   ]
  },
  {
   "cell_type": "code",
   "execution_count": 1,
   "metadata": {},
   "outputs": [],
   "source": [
    "import pandas as pd"
   ]
  },
  {
   "cell_type": "code",
   "execution_count": 134,
   "metadata": {},
   "outputs": [],
   "source": [
    "data = {'Name':['Tom', 'nick', 'krISH', 'jack', 'umAIr', 'taha', 'aZAAm'], 'MasterSkuGuid':['1D2F9E8E-AD16-4682-AF5B-008FEA8C8D85', 'C7E0C99F-925D-47C7-9B26-818D4F78200A', 'B06D62AE-E665-4876-9DDC-5A358C709147', '0356CFF9-C54E-450E-98A2-1FADBBF9AB74', 'C7E0C99F-925D-47C7-9B26-818D4F78200A', 'C7E0C99F-925D-47C7-9B26-818D4F78200A', 'C7E0C99F-925D-47C7-9B26-818D4F78200A'], \n",
    "       'City': ['Sydney','Karachi','Tokyo','Lahore', 'Karachi', 'Sydney', 'Karachi'], 'Age':['23','33','4','22','55','21','65']}\n",
    "\n",
    "df = pd.DataFrame(data)"
   ]
  },
  {
   "cell_type": "code",
   "execution_count": 16,
   "metadata": {},
   "outputs": [
    {
     "data": {
      "text/html": [
       "<div>\n",
       "<style scoped>\n",
       "    .dataframe tbody tr th:only-of-type {\n",
       "        vertical-align: middle;\n",
       "    }\n",
       "\n",
       "    .dataframe tbody tr th {\n",
       "        vertical-align: top;\n",
       "    }\n",
       "\n",
       "    .dataframe thead th {\n",
       "        text-align: right;\n",
       "    }\n",
       "</style>\n",
       "<table border=\"1\" class=\"dataframe\">\n",
       "  <thead>\n",
       "    <tr style=\"text-align: right;\">\n",
       "      <th></th>\n",
       "      <th>Name</th>\n",
       "      <th>MasterSkuGuid</th>\n",
       "      <th>City</th>\n",
       "      <th>Age</th>\n",
       "    </tr>\n",
       "  </thead>\n",
       "  <tbody>\n",
       "    <tr>\n",
       "      <th>0</th>\n",
       "      <td>Tom</td>\n",
       "      <td>1D2F9E8E-AD16-4682-AF5B-008FEA8C8D85</td>\n",
       "      <td>Sydney</td>\n",
       "      <td>23</td>\n",
       "    </tr>\n",
       "    <tr>\n",
       "      <th>1</th>\n",
       "      <td>nick</td>\n",
       "      <td>C7E0C99F-925D-47C7-9B26-818D4F78200A</td>\n",
       "      <td>Karachi</td>\n",
       "      <td>33</td>\n",
       "    </tr>\n",
       "    <tr>\n",
       "      <th>2</th>\n",
       "      <td>krISH</td>\n",
       "      <td>B06D62AE-E665-4876-9DDC-5A358C709147</td>\n",
       "      <td>Tokyo</td>\n",
       "      <td>4</td>\n",
       "    </tr>\n",
       "    <tr>\n",
       "      <th>3</th>\n",
       "      <td>jack</td>\n",
       "      <td>0356CFF9-C54E-450E-98A2-1FADBBF9AB74</td>\n",
       "      <td>Lahore</td>\n",
       "      <td>22</td>\n",
       "    </tr>\n",
       "    <tr>\n",
       "      <th>4</th>\n",
       "      <td>umAIr</td>\n",
       "      <td>C7E0C99F-925D-47C7-9B26-818D4F78200A</td>\n",
       "      <td>Karachi</td>\n",
       "      <td>55</td>\n",
       "    </tr>\n",
       "    <tr>\n",
       "      <th>5</th>\n",
       "      <td>taha</td>\n",
       "      <td>C7E0C99F-925D-47C7-9B26-818D4F78200A</td>\n",
       "      <td>Sydney</td>\n",
       "      <td>21</td>\n",
       "    </tr>\n",
       "    <tr>\n",
       "      <th>6</th>\n",
       "      <td>aZAAm</td>\n",
       "      <td>C7E0C99F-925D-47C7-9B26-818D4F78200A</td>\n",
       "      <td>Karachi</td>\n",
       "      <td>65</td>\n",
       "    </tr>\n",
       "  </tbody>\n",
       "</table>\n",
       "</div>"
      ],
      "text/plain": [
       "    Name                         MasterSkuGuid     City Age\n",
       "0    Tom  1D2F9E8E-AD16-4682-AF5B-008FEA8C8D85   Sydney  23\n",
       "1   nick  C7E0C99F-925D-47C7-9B26-818D4F78200A  Karachi  33\n",
       "2  krISH  B06D62AE-E665-4876-9DDC-5A358C709147    Tokyo   4\n",
       "3   jack  0356CFF9-C54E-450E-98A2-1FADBBF9AB74   Lahore  22\n",
       "4  umAIr  C7E0C99F-925D-47C7-9B26-818D4F78200A  Karachi  55\n",
       "5   taha  C7E0C99F-925D-47C7-9B26-818D4F78200A   Sydney  21\n",
       "6  aZAAm  C7E0C99F-925D-47C7-9B26-818D4F78200A  Karachi  65"
      ]
     },
     "execution_count": 16,
     "metadata": {},
     "output_type": "execute_result"
    }
   ],
   "source": [
    "df"
   ]
  },
  {
   "cell_type": "code",
   "execution_count": 23,
   "metadata": {},
   "outputs": [],
   "source": [
    "def abc(b):\n",
    "    if b == 3:\n",
    "        return \"yes\"\n",
    "    else:\n",
    "        return \"no\""
   ]
  },
  {
   "cell_type": "code",
   "execution_count": 24,
   "metadata": {},
   "outputs": [],
   "source": [
    "b = [33,11,54,3,2]\n",
    "a = list(map(abc, b))"
   ]
  },
  {
   "cell_type": "code",
   "execution_count": 25,
   "metadata": {},
   "outputs": [
    {
     "data": {
      "text/plain": [
       "['no', 'no', 'no', 'yes', 'no']"
      ]
     },
     "execution_count": 25,
     "metadata": {},
     "output_type": "execute_result"
    }
   ],
   "source": [
    "a"
   ]
  },
  {
   "cell_type": "code",
   "execution_count": 172,
   "metadata": {},
   "outputs": [],
   "source": [
    "def xyz(df):\n",
    "    df['Name'] = str(df['Name']).lower()\n",
    "    return df"
   ]
  },
  {
   "cell_type": "code",
   "execution_count": 173,
   "metadata": {},
   "outputs": [],
   "source": [
    "df = list(map(xyz, [df]))"
   ]
  },
  {
   "cell_type": "code",
   "execution_count": 174,
   "metadata": {},
   "outputs": [
    {
     "data": {
      "text/plain": [
       "[                                                Name  \\\n",
       " 0  0      tom\\n1     nick\\n2    krish\\n3     jack...   \n",
       " 1  0      tom\\n1     nick\\n2    krish\\n3     jack...   \n",
       " 2  0      tom\\n1     nick\\n2    krish\\n3     jack...   \n",
       " 3  0      tom\\n1     nick\\n2    krish\\n3     jack...   \n",
       " 4  0      tom\\n1     nick\\n2    krish\\n3     jack...   \n",
       " 5  0      tom\\n1     nick\\n2    krish\\n3     jack...   \n",
       " 6  0      tom\\n1     nick\\n2    krish\\n3     jack...   \n",
       " \n",
       "                           MasterSkuGuid     City Age  \n",
       " 0  1D2F9E8E-AD16-4682-AF5B-008FEA8C8D85   Sydney  23  \n",
       " 1  C7E0C99F-925D-47C7-9B26-818D4F78200A  Karachi  33  \n",
       " 2  B06D62AE-E665-4876-9DDC-5A358C709147    Tokyo   4  \n",
       " 3  0356CFF9-C54E-450E-98A2-1FADBBF9AB74   Lahore  22  \n",
       " 4  C7E0C99F-925D-47C7-9B26-818D4F78200A  Karachi  55  \n",
       " 5  C7E0C99F-925D-47C7-9B26-818D4F78200A   Sydney  21  \n",
       " 6  C7E0C99F-925D-47C7-9B26-818D4F78200A  Karachi  65  ]"
      ]
     },
     "execution_count": 174,
     "metadata": {},
     "output_type": "execute_result"
    }
   ],
   "source": [
    "df"
   ]
  },
  {
   "cell_type": "code",
   "execution_count": 175,
   "metadata": {},
   "outputs": [
    {
     "data": {
      "text/html": [
       "<div>\n",
       "<style scoped>\n",
       "    .dataframe tbody tr th:only-of-type {\n",
       "        vertical-align: middle;\n",
       "    }\n",
       "\n",
       "    .dataframe tbody tr th {\n",
       "        vertical-align: top;\n",
       "    }\n",
       "\n",
       "    .dataframe thead th {\n",
       "        text-align: right;\n",
       "    }\n",
       "</style>\n",
       "<table border=\"1\" class=\"dataframe\">\n",
       "  <thead>\n",
       "    <tr style=\"text-align: right;\">\n",
       "      <th></th>\n",
       "      <th>Name</th>\n",
       "      <th>MasterSkuGuid</th>\n",
       "      <th>City</th>\n",
       "      <th>Age</th>\n",
       "    </tr>\n",
       "  </thead>\n",
       "  <tbody>\n",
       "    <tr>\n",
       "      <th>0</th>\n",
       "      <td>0      tom\\n1     nick\\n2    krish\\n3     jack...</td>\n",
       "      <td>1D2F9E8E-AD16-4682-AF5B-008FEA8C8D85</td>\n",
       "      <td>Sydney</td>\n",
       "      <td>23</td>\n",
       "    </tr>\n",
       "    <tr>\n",
       "      <th>1</th>\n",
       "      <td>0      tom\\n1     nick\\n2    krish\\n3     jack...</td>\n",
       "      <td>C7E0C99F-925D-47C7-9B26-818D4F78200A</td>\n",
       "      <td>Karachi</td>\n",
       "      <td>33</td>\n",
       "    </tr>\n",
       "    <tr>\n",
       "      <th>2</th>\n",
       "      <td>0      tom\\n1     nick\\n2    krish\\n3     jack...</td>\n",
       "      <td>B06D62AE-E665-4876-9DDC-5A358C709147</td>\n",
       "      <td>Tokyo</td>\n",
       "      <td>4</td>\n",
       "    </tr>\n",
       "    <tr>\n",
       "      <th>3</th>\n",
       "      <td>0      tom\\n1     nick\\n2    krish\\n3     jack...</td>\n",
       "      <td>0356CFF9-C54E-450E-98A2-1FADBBF9AB74</td>\n",
       "      <td>Lahore</td>\n",
       "      <td>22</td>\n",
       "    </tr>\n",
       "    <tr>\n",
       "      <th>4</th>\n",
       "      <td>0      tom\\n1     nick\\n2    krish\\n3     jack...</td>\n",
       "      <td>C7E0C99F-925D-47C7-9B26-818D4F78200A</td>\n",
       "      <td>Karachi</td>\n",
       "      <td>55</td>\n",
       "    </tr>\n",
       "    <tr>\n",
       "      <th>5</th>\n",
       "      <td>0      tom\\n1     nick\\n2    krish\\n3     jack...</td>\n",
       "      <td>C7E0C99F-925D-47C7-9B26-818D4F78200A</td>\n",
       "      <td>Sydney</td>\n",
       "      <td>21</td>\n",
       "    </tr>\n",
       "    <tr>\n",
       "      <th>6</th>\n",
       "      <td>0      tom\\n1     nick\\n2    krish\\n3     jack...</td>\n",
       "      <td>C7E0C99F-925D-47C7-9B26-818D4F78200A</td>\n",
       "      <td>Karachi</td>\n",
       "      <td>65</td>\n",
       "    </tr>\n",
       "  </tbody>\n",
       "</table>\n",
       "</div>"
      ],
      "text/plain": [
       "                                                Name  \\\n",
       "0  0      tom\\n1     nick\\n2    krish\\n3     jack...   \n",
       "1  0      tom\\n1     nick\\n2    krish\\n3     jack...   \n",
       "2  0      tom\\n1     nick\\n2    krish\\n3     jack...   \n",
       "3  0      tom\\n1     nick\\n2    krish\\n3     jack...   \n",
       "4  0      tom\\n1     nick\\n2    krish\\n3     jack...   \n",
       "5  0      tom\\n1     nick\\n2    krish\\n3     jack...   \n",
       "6  0      tom\\n1     nick\\n2    krish\\n3     jack...   \n",
       "\n",
       "                          MasterSkuGuid     City Age  \n",
       "0  1D2F9E8E-AD16-4682-AF5B-008FEA8C8D85   Sydney  23  \n",
       "1  C7E0C99F-925D-47C7-9B26-818D4F78200A  Karachi  33  \n",
       "2  B06D62AE-E665-4876-9DDC-5A358C709147    Tokyo   4  \n",
       "3  0356CFF9-C54E-450E-98A2-1FADBBF9AB74   Lahore  22  \n",
       "4  C7E0C99F-925D-47C7-9B26-818D4F78200A  Karachi  55  \n",
       "5  C7E0C99F-925D-47C7-9B26-818D4F78200A   Sydney  21  \n",
       "6  C7E0C99F-925D-47C7-9B26-818D4F78200A  Karachi  65  "
      ]
     },
     "execution_count": 175,
     "metadata": {},
     "output_type": "execute_result"
    }
   ],
   "source": [
    "df[0]"
   ]
  },
  {
   "cell_type": "markdown",
   "metadata": {},
   "source": [
    "NOW"
   ]
  },
  {
   "cell_type": "code",
   "execution_count": 178,
   "metadata": {},
   "outputs": [],
   "source": [
    "def xyz(df):\n",
    "    for i in range(0,len(df)):\n",
    "        df['Name'][i] = str(df['Name'][i]).lower()\n",
    "    return df"
   ]
  },
  {
   "cell_type": "code",
   "execution_count": 179,
   "metadata": {},
   "outputs": [],
   "source": [
    "df = list(map(xyz, [df]))"
   ]
  },
  {
   "cell_type": "code",
   "execution_count": 181,
   "metadata": {},
   "outputs": [
    {
     "data": {
      "text/html": [
       "<div>\n",
       "<style scoped>\n",
       "    .dataframe tbody tr th:only-of-type {\n",
       "        vertical-align: middle;\n",
       "    }\n",
       "\n",
       "    .dataframe tbody tr th {\n",
       "        vertical-align: top;\n",
       "    }\n",
       "\n",
       "    .dataframe thead th {\n",
       "        text-align: right;\n",
       "    }\n",
       "</style>\n",
       "<table border=\"1\" class=\"dataframe\">\n",
       "  <thead>\n",
       "    <tr style=\"text-align: right;\">\n",
       "      <th></th>\n",
       "      <th>Name</th>\n",
       "      <th>MasterSkuGuid</th>\n",
       "      <th>City</th>\n",
       "      <th>Age</th>\n",
       "    </tr>\n",
       "  </thead>\n",
       "  <tbody>\n",
       "    <tr>\n",
       "      <th>0</th>\n",
       "      <td>tom</td>\n",
       "      <td>1D2F9E8E-AD16-4682-AF5B-008FEA8C8D85</td>\n",
       "      <td>Sydney</td>\n",
       "      <td>23</td>\n",
       "    </tr>\n",
       "    <tr>\n",
       "      <th>1</th>\n",
       "      <td>nick</td>\n",
       "      <td>C7E0C99F-925D-47C7-9B26-818D4F78200A</td>\n",
       "      <td>Karachi</td>\n",
       "      <td>33</td>\n",
       "    </tr>\n",
       "    <tr>\n",
       "      <th>2</th>\n",
       "      <td>krish</td>\n",
       "      <td>B06D62AE-E665-4876-9DDC-5A358C709147</td>\n",
       "      <td>Tokyo</td>\n",
       "      <td>4</td>\n",
       "    </tr>\n",
       "    <tr>\n",
       "      <th>3</th>\n",
       "      <td>jack</td>\n",
       "      <td>0356CFF9-C54E-450E-98A2-1FADBBF9AB74</td>\n",
       "      <td>Lahore</td>\n",
       "      <td>22</td>\n",
       "    </tr>\n",
       "    <tr>\n",
       "      <th>4</th>\n",
       "      <td>umair</td>\n",
       "      <td>C7E0C99F-925D-47C7-9B26-818D4F78200A</td>\n",
       "      <td>Karachi</td>\n",
       "      <td>55</td>\n",
       "    </tr>\n",
       "    <tr>\n",
       "      <th>5</th>\n",
       "      <td>taha</td>\n",
       "      <td>C7E0C99F-925D-47C7-9B26-818D4F78200A</td>\n",
       "      <td>Sydney</td>\n",
       "      <td>21</td>\n",
       "    </tr>\n",
       "    <tr>\n",
       "      <th>6</th>\n",
       "      <td>azaam</td>\n",
       "      <td>C7E0C99F-925D-47C7-9B26-818D4F78200A</td>\n",
       "      <td>Karachi</td>\n",
       "      <td>65</td>\n",
       "    </tr>\n",
       "  </tbody>\n",
       "</table>\n",
       "</div>"
      ],
      "text/plain": [
       "    Name                         MasterSkuGuid     City Age\n",
       "0    tom  1D2F9E8E-AD16-4682-AF5B-008FEA8C8D85   Sydney  23\n",
       "1   nick  C7E0C99F-925D-47C7-9B26-818D4F78200A  Karachi  33\n",
       "2  krish  B06D62AE-E665-4876-9DDC-5A358C709147    Tokyo   4\n",
       "3   jack  0356CFF9-C54E-450E-98A2-1FADBBF9AB74   Lahore  22\n",
       "4  umair  C7E0C99F-925D-47C7-9B26-818D4F78200A  Karachi  55\n",
       "5   taha  C7E0C99F-925D-47C7-9B26-818D4F78200A   Sydney  21\n",
       "6  azaam  C7E0C99F-925D-47C7-9B26-818D4F78200A  Karachi  65"
      ]
     },
     "execution_count": 181,
     "metadata": {},
     "output_type": "execute_result"
    }
   ],
   "source": [
    "df[0]"
   ]
  },
  {
   "cell_type": "markdown",
   "metadata": {},
   "source": [
    "## FILTER"
   ]
  },
  {
   "cell_type": "code",
   "execution_count": 199,
   "metadata": {},
   "outputs": [],
   "source": [
    "def pqr(d):\n",
    "    return d == 55555"
   ]
  },
  {
   "cell_type": "code",
   "execution_count": 200,
   "metadata": {},
   "outputs": [],
   "source": [
    "d = [5,21,11,453,567]\n",
    "\n",
    "m = list(filter(pqr,d))"
   ]
  },
  {
   "cell_type": "code",
   "execution_count": 201,
   "metadata": {},
   "outputs": [
    {
     "data": {
      "text/plain": [
       "[]"
      ]
     },
     "execution_count": 201,
     "metadata": {},
     "output_type": "execute_result"
    }
   ],
   "source": [
    "m"
   ]
  },
  {
   "cell_type": "code",
   "execution_count": 202,
   "metadata": {},
   "outputs": [],
   "source": [
    "df = df[0]"
   ]
  },
  {
   "cell_type": "code",
   "execution_count": 203,
   "metadata": {},
   "outputs": [
    {
     "data": {
      "text/html": [
       "<div>\n",
       "<style scoped>\n",
       "    .dataframe tbody tr th:only-of-type {\n",
       "        vertical-align: middle;\n",
       "    }\n",
       "\n",
       "    .dataframe tbody tr th {\n",
       "        vertical-align: top;\n",
       "    }\n",
       "\n",
       "    .dataframe thead th {\n",
       "        text-align: right;\n",
       "    }\n",
       "</style>\n",
       "<table border=\"1\" class=\"dataframe\">\n",
       "  <thead>\n",
       "    <tr style=\"text-align: right;\">\n",
       "      <th></th>\n",
       "      <th>Name</th>\n",
       "      <th>MasterSkuGuid</th>\n",
       "      <th>City</th>\n",
       "      <th>Age</th>\n",
       "    </tr>\n",
       "  </thead>\n",
       "  <tbody>\n",
       "    <tr>\n",
       "      <th>0</th>\n",
       "      <td>tom</td>\n",
       "      <td>1D2F9E8E-AD16-4682-AF5B-008FEA8C8D85</td>\n",
       "      <td>Sydney</td>\n",
       "      <td>23</td>\n",
       "    </tr>\n",
       "    <tr>\n",
       "      <th>1</th>\n",
       "      <td>nick</td>\n",
       "      <td>C7E0C99F-925D-47C7-9B26-818D4F78200A</td>\n",
       "      <td>Karachi</td>\n",
       "      <td>33</td>\n",
       "    </tr>\n",
       "    <tr>\n",
       "      <th>2</th>\n",
       "      <td>krish</td>\n",
       "      <td>B06D62AE-E665-4876-9DDC-5A358C709147</td>\n",
       "      <td>Tokyo</td>\n",
       "      <td>4</td>\n",
       "    </tr>\n",
       "    <tr>\n",
       "      <th>3</th>\n",
       "      <td>jack</td>\n",
       "      <td>0356CFF9-C54E-450E-98A2-1FADBBF9AB74</td>\n",
       "      <td>Lahore</td>\n",
       "      <td>22</td>\n",
       "    </tr>\n",
       "    <tr>\n",
       "      <th>4</th>\n",
       "      <td>umair</td>\n",
       "      <td>C7E0C99F-925D-47C7-9B26-818D4F78200A</td>\n",
       "      <td>Karachi</td>\n",
       "      <td>55</td>\n",
       "    </tr>\n",
       "    <tr>\n",
       "      <th>5</th>\n",
       "      <td>taha</td>\n",
       "      <td>C7E0C99F-925D-47C7-9B26-818D4F78200A</td>\n",
       "      <td>Sydney</td>\n",
       "      <td>21</td>\n",
       "    </tr>\n",
       "    <tr>\n",
       "      <th>6</th>\n",
       "      <td>azaam</td>\n",
       "      <td>C7E0C99F-925D-47C7-9B26-818D4F78200A</td>\n",
       "      <td>Karachi</td>\n",
       "      <td>65</td>\n",
       "    </tr>\n",
       "  </tbody>\n",
       "</table>\n",
       "</div>"
      ],
      "text/plain": [
       "    Name                         MasterSkuGuid     City Age\n",
       "0    tom  1D2F9E8E-AD16-4682-AF5B-008FEA8C8D85   Sydney  23\n",
       "1   nick  C7E0C99F-925D-47C7-9B26-818D4F78200A  Karachi  33\n",
       "2  krish  B06D62AE-E665-4876-9DDC-5A358C709147    Tokyo   4\n",
       "3   jack  0356CFF9-C54E-450E-98A2-1FADBBF9AB74   Lahore  22\n",
       "4  umair  C7E0C99F-925D-47C7-9B26-818D4F78200A  Karachi  55\n",
       "5   taha  C7E0C99F-925D-47C7-9B26-818D4F78200A   Sydney  21\n",
       "6  azaam  C7E0C99F-925D-47C7-9B26-818D4F78200A  Karachi  65"
      ]
     },
     "execution_count": 203,
     "metadata": {},
     "output_type": "execute_result"
    }
   ],
   "source": [
    "df"
   ]
  },
  {
   "cell_type": "code",
   "execution_count": 230,
   "metadata": {},
   "outputs": [],
   "source": [
    "a=df.filter(['Name','City'])"
   ]
  },
  {
   "cell_type": "code",
   "execution_count": 231,
   "metadata": {},
   "outputs": [
    {
     "data": {
      "text/html": [
       "<div>\n",
       "<style scoped>\n",
       "    .dataframe tbody tr th:only-of-type {\n",
       "        vertical-align: middle;\n",
       "    }\n",
       "\n",
       "    .dataframe tbody tr th {\n",
       "        vertical-align: top;\n",
       "    }\n",
       "\n",
       "    .dataframe thead th {\n",
       "        text-align: right;\n",
       "    }\n",
       "</style>\n",
       "<table border=\"1\" class=\"dataframe\">\n",
       "  <thead>\n",
       "    <tr style=\"text-align: right;\">\n",
       "      <th></th>\n",
       "      <th>Name</th>\n",
       "      <th>City</th>\n",
       "    </tr>\n",
       "  </thead>\n",
       "  <tbody>\n",
       "    <tr>\n",
       "      <th>0</th>\n",
       "      <td>tom</td>\n",
       "      <td>Sydney</td>\n",
       "    </tr>\n",
       "    <tr>\n",
       "      <th>1</th>\n",
       "      <td>nick</td>\n",
       "      <td>Karachi</td>\n",
       "    </tr>\n",
       "    <tr>\n",
       "      <th>2</th>\n",
       "      <td>krish</td>\n",
       "      <td>Tokyo</td>\n",
       "    </tr>\n",
       "    <tr>\n",
       "      <th>3</th>\n",
       "      <td>jack</td>\n",
       "      <td>Lahore</td>\n",
       "    </tr>\n",
       "    <tr>\n",
       "      <th>4</th>\n",
       "      <td>umair</td>\n",
       "      <td>Karachi</td>\n",
       "    </tr>\n",
       "    <tr>\n",
       "      <th>5</th>\n",
       "      <td>taha</td>\n",
       "      <td>Sydney</td>\n",
       "    </tr>\n",
       "    <tr>\n",
       "      <th>6</th>\n",
       "      <td>azaam</td>\n",
       "      <td>Karachi</td>\n",
       "    </tr>\n",
       "  </tbody>\n",
       "</table>\n",
       "</div>"
      ],
      "text/plain": [
       "    Name     City\n",
       "0    tom   Sydney\n",
       "1   nick  Karachi\n",
       "2  krish    Tokyo\n",
       "3   jack   Lahore\n",
       "4  umair  Karachi\n",
       "5   taha   Sydney\n",
       "6  azaam  Karachi"
      ]
     },
     "execution_count": 231,
     "metadata": {},
     "output_type": "execute_result"
    }
   ],
   "source": [
    "a"
   ]
  },
  {
   "cell_type": "markdown",
   "metadata": {},
   "source": [
    "## PARALLEL LISTS"
   ]
  },
  {
   "cell_type": "code",
   "execution_count": 58,
   "metadata": {},
   "outputs": [
    {
     "name": "stdout",
     "output_type": "stream",
     "text": [
      "Usama Moin studying in German university\n"
     ]
    }
   ],
   "source": [
    "listA = ['Umair Hanif', 'Usama Ahmed', 'Usama Moin', 'Azhar']\n",
    "listB = ['DSU','FAST','German','French']\n",
    "\n",
    "for i in range(0,len(listA)):\n",
    "    for j in range(0,len(listB)):\n",
    "        if listB[j] == 'German':\n",
    "            i = j\n",
    "            print(listA[i] + \" studying in \" + listB[j] + \" university\")\n",
    "    break"
   ]
  },
  {
   "cell_type": "code",
   "execution_count": 59,
   "metadata": {},
   "outputs": [],
   "source": [
    "listA = ['Umair Hanif', 'Usama Ahmed', 'Usama Moin', 'Azhar', 'Taha']\n",
    "listB = ['DSU','FAST','German','French']\n",
    "\n",
    "z = tuple(zip(listA,listB))"
   ]
  },
  {
   "cell_type": "code",
   "execution_count": 60,
   "metadata": {},
   "outputs": [
    {
     "data": {
      "text/plain": [
       "(('Umair Hanif', 'DSU'),\n",
       " ('Usama Ahmed', 'FAST'),\n",
       " ('Usama Moin', 'German'),\n",
       " ('Azhar', 'French'))"
      ]
     },
     "execution_count": 60,
     "metadata": {},
     "output_type": "execute_result"
    }
   ],
   "source": [
    "z"
   ]
  },
  {
   "cell_type": "markdown",
   "metadata": {},
   "source": [
    "## EXCEPTION HANDLING"
   ]
  },
  {
   "cell_type": "code",
   "execution_count": 61,
   "metadata": {},
   "outputs": [
    {
     "name": "stdout",
     "output_type": "stream",
     "text": [
      "ERORRORRRR\n"
     ]
    }
   ],
   "source": [
    "try:\n",
    "    5/0\n",
    "except Exception:\n",
    "    print(\"ERORRORRRR\")"
   ]
  },
  {
   "cell_type": "code",
   "execution_count": 62,
   "metadata": {},
   "outputs": [
    {
     "name": "stdout",
     "output_type": "stream",
     "text": [
      "Error float division by zero\n"
     ]
    }
   ],
   "source": [
    "try:\n",
    "    54.21/0\n",
    "except Exception as e:\n",
    "    print(\"Error\", e)"
   ]
  },
  {
   "cell_type": "code",
   "execution_count": 63,
   "metadata": {},
   "outputs": [
    {
     "name": "stdout",
     "output_type": "stream",
     "text": [
      "Error: division by zero\n",
      "Best wishes to BITRUPT!\n"
     ]
    }
   ],
   "source": [
    "try:\n",
    "    54/0\n",
    "except Exception as e:\n",
    "    print(\"Error:\", e)\n",
    "finally:\n",
    "    print(\"Best wishes to BITRUPT!\")"
   ]
  },
  {
   "cell_type": "code",
   "execution_count": 66,
   "metadata": {},
   "outputs": [
    {
     "name": "stdout",
     "output_type": "stream",
     "text": [
      "n =  17.0\n",
      "Bitrupt Cool Cups!\n"
     ]
    }
   ],
   "source": [
    "try:\n",
    "    n = 34/2\n",
    "    print(\"n = \", n)\n",
    "except Exception as e:\n",
    "    print(\"Error\", e)\n",
    "finally:\n",
    "    print(\"Bitrupt Cool Cups!\")"
   ]
  },
  {
   "cell_type": "markdown",
   "metadata": {},
   "source": [
    "## REGEX"
   ]
  },
  {
   "cell_type": "markdown",
   "metadata": {},
   "source": [
    "https://www.w3schools.com/python/python_regex.asp"
   ]
  },
  {
   "cell_type": "code",
   "execution_count": 67,
   "metadata": {},
   "outputs": [],
   "source": [
    "import re"
   ]
  },
  {
   "cell_type": "code",
   "execution_count": 69,
   "metadata": {},
   "outputs": [
    {
     "data": {
      "text/plain": [
       "['0', '3', '4']"
      ]
     },
     "execution_count": 69,
     "metadata": {},
     "output_type": "execute_result"
    }
   ],
   "source": [
    "text = \"Where we are heading towards? 034\"\n",
    "re.findall(\"\\d\", text)"
   ]
  },
  {
   "cell_type": "code",
   "execution_count": 73,
   "metadata": {},
   "outputs": [],
   "source": [
    "demo = re.findall('\\D', text)"
   ]
  },
  {
   "cell_type": "code",
   "execution_count": 74,
   "metadata": {},
   "outputs": [
    {
     "data": {
      "text/plain": [
       "['W',\n",
       " 'h',\n",
       " 'e',\n",
       " 'r',\n",
       " 'e',\n",
       " ' ',\n",
       " 'w',\n",
       " 'e',\n",
       " ' ',\n",
       " 'a',\n",
       " 'r',\n",
       " 'e',\n",
       " ' ',\n",
       " 'h',\n",
       " 'e',\n",
       " 'a',\n",
       " 'd',\n",
       " 'i',\n",
       " 'n',\n",
       " 'g',\n",
       " ' ',\n",
       " 't',\n",
       " 'o',\n",
       " 'w',\n",
       " 'a',\n",
       " 'r',\n",
       " 'd',\n",
       " 's',\n",
       " '?',\n",
       " ' ']"
      ]
     },
     "execution_count": 74,
     "metadata": {},
     "output_type": "execute_result"
    }
   ],
   "source": [
    "demo"
   ]
  },
  {
   "cell_type": "code",
   "execution_count": 75,
   "metadata": {},
   "outputs": [],
   "source": [
    "demo = set(demo)"
   ]
  },
  {
   "cell_type": "code",
   "execution_count": 76,
   "metadata": {},
   "outputs": [
    {
     "data": {
      "text/plain": [
       "{' ', '?', 'W', 'a', 'd', 'e', 'g', 'h', 'i', 'n', 'o', 'r', 's', 't', 'w'}"
      ]
     },
     "execution_count": 76,
     "metadata": {},
     "output_type": "execute_result"
    }
   ],
   "source": [
    "demo"
   ]
  },
  {
   "cell_type": "code",
   "execution_count": 77,
   "metadata": {},
   "outputs": [
    {
     "data": {
      "text/plain": [
       "['?']"
      ]
     },
     "execution_count": 77,
     "metadata": {},
     "output_type": "execute_result"
    }
   ],
   "source": [
    "re.findall('\\?', text)"
   ]
  },
  {
   "cell_type": "code",
   "execution_count": 100,
   "metadata": {},
   "outputs": [
    {
     "data": {
      "text/plain": [
       "['?', '?']"
      ]
     },
     "execution_count": 100,
     "metadata": {},
     "output_type": "execute_result"
    }
   ],
   "source": [
    "text = \"Where are you? Idiot? !\"\n",
    "\n",
    "re.findall('\\?', text)"
   ]
  },
  {
   "cell_type": "code",
   "execution_count": 103,
   "metadata": {},
   "outputs": [
    {
     "data": {
      "text/plain": [
       "'Where are you? Idiot? !'"
      ]
     },
     "execution_count": 103,
     "metadata": {},
     "output_type": "execute_result"
    }
   ],
   "source": [
    "re.sub('where', 'how', text)"
   ]
  },
  {
   "cell_type": "code",
   "execution_count": null,
   "metadata": {},
   "outputs": [],
   "source": []
  }
 ],
 "metadata": {
  "kernelspec": {
   "display_name": "Python 3",
   "language": "python",
   "name": "python3"
  },
  "language_info": {
   "codemirror_mode": {
    "name": "ipython",
    "version": 3
   },
   "file_extension": ".py",
   "mimetype": "text/x-python",
   "name": "python",
   "nbconvert_exporter": "python",
   "pygments_lexer": "ipython3",
   "version": "3.7.6"
  }
 },
 "nbformat": 4,
 "nbformat_minor": 4
}
